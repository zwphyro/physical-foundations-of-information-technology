{
 "cells": [
  {
   "cell_type": "markdown",
   "id": "6e510680-2bf8-48df-9f56-c17e2ee1a2a1",
   "metadata": {},
   "source": [
    "# Численные методы решения физических задач"
   ]
  },
  {
   "cell_type": "markdown",
   "id": "a9294c95-6747-406c-b453-01a007370471",
   "metadata": {},
   "source": [
    "## Метод половинного деления, метод Ньютона, метод хорд"
   ]
  },
  {
   "cell_type": "markdown",
   "id": "f120e272-9066-4aea-9297-b9f3f012d8df",
   "metadata": {},
   "source": [
    "### Метод половинного деления\n",
    "\n",
    "1. Локализуется корень, находятся точки $a$ и $b$, такие, что $f(a) \\cdot f(b) < 0 \\text{ (1)}$, $a < b$.\n",
    "2. Вычисляется точка $c = \\frac {b - a} {2}$.\n",
    "3. Если $f(c) < \\varepsilon$, где $\\varepsilon$ - заданная точность, то корень найден.\n",
    "4. Иначе одной из точек $a$ или $b$ присваевается значение точки $c$ так, чтобы соблюдалось неравенство $\\text{(1)}$.\n",
    "\n",
    "### Метод Ньютона\n",
    "\n",
    "1. Выбирается точка $a$.\n",
    "2. Находится точка пересечения касательной функции $f(x)$ в точке $a$ с осью $x$.\n",
    "3. Точка пересечения становиться новой точкой $a$.\n",
    "4. Процесс продолжается пока $f(a) > \\varepsilon$.\n",
    "\n",
    "### Метод хорд\n",
    "\n",
    "1. Локализуется корень, находятся точки $a$ и $b$, такие, что $f(a) \\cdot f(b) < 0 \\text{ (1)}$, $a < b$.\n",
    "2. Строится прямая между точками $a$ и $b$.\n",
    "3. Точка пересечения построенной прямой и оси $x$ присваевается одной из точек $a$ или $b$ так, чтобы соблюдалось неравенство $\\text{(1)}$."
   ]
  },
  {
   "cell_type": "markdown",
   "id": "5180ab4a-925b-462e-93b5-fbacda736119",
   "metadata": {},
   "source": [
    "## Численное интегрирование и дифференцирование"
   ]
  },
  {
   "cell_type": "markdown",
   "id": "bb7fb52b-bee0-4ce1-b214-020d95f29394",
   "metadata": {},
   "source": [
    "### Численное дифференцирование\n",
    "\n",
    "1. Отрезок $[a, b]$ разбивается на $N$ отрезков длиной $\\Delta x$ начиная с точки $a$, заканчивая точкой $b = N \\cdot \\Delta x$.\n",
    "2. $\\frac {df} {dx} = \\frac {f_2 - f_1} {\\Delta x}$, $f_1 = f(x)$, $f_2 = f(x + \\Delta x)$\n",
    "\n",
    "### Численное интегрирование\n",
    "\n",
    "1. Отрезок $[a, b]$ разбивается на $N$ отрезков длиной $\\Delta x$ начиная с точки $a$, заканчивая точкой $b = N \\cdot \\Delta x$.\n",
    "2. $x_i = a + i \\cdot \\Delta x$, $\\int_a^b f(x) dx \\widetilde{=} \\sum_{i=0}^{N-1}f(x_i)\\cdot \\Delta x$"
   ]
  },
  {
   "cell_type": "markdown",
   "id": "ff99a3d5-3763-4c39-9242-049a28159697",
   "metadata": {},
   "source": [
    "## Численное решение ОДУ с заданными условиями на одной границе"
   ]
  },
  {
   "cell_type": "markdown",
   "id": "679bf545-70c5-4511-9e75-9283d4949111",
   "metadata": {},
   "source": [
    "$ \\frac {\\partial^2 \\alpha(t)} {\\partial t^2} + I sin(\\alpha(t)) = 0 $\n",
    "\n",
    "$ \\alpha(t = 0) = \\alpha_0 $  \n",
    "$ \\frac {\\partial \\alpha (t)} {\\partial t} |_{t=0} = d\\alpha_0$\n",
    "\n",
    "$\\Delta t = N \\cdot dt$ - отрезок, на котором происходит решение.  \n",
    "$ dt = \\frac {\\Delta r} {N} $ - расстояние между соседними точками на оси $x$.  \n",
    "$ i = 1 ... N $\n",
    "\n",
    "1. Вычисляем вторую производную из решаемого уравнения  \n",
    "$ \\frac {\\partial^2 \\alpha (dt)} {\\partial t^2} = d_2 \\alpha_1 = -I sin(\\alpha_1) $  \n",
    "2. Используя соотношение $ d_2\\alpha_1 = \\frac {d\\alpha_1 - d\\alpha_0} {dt} $ вычисляем значение первой производной в точке $dt$  \n",
    "$ d\\alpha_1 = \\frac {\\partial \\alpha (t)} {\\partial t} |_{t = dt} = d_2\\alpha_1 \\cdot dt + d \\alpha_0 $\n",
    "3. Вычисляем следующее значение функции\n",
    "$ \\alpha(2dt) = \\alpha_2 = \\alpha_1 + d\\alpha_1dt $\n",
    "\n",
    "Рекурентное соотношение:  \n",
    "$ \\alpha (idt) = \\alpha_i = \\alpha_{i-1} + d\\alpha_{i-1} dt $"
   ]
  },
  {
   "cell_type": "markdown",
   "id": "709118b3-d099-4d8d-a7cc-77480ec45360",
   "metadata": {},
   "source": [
    "## Численное решение уравнения Лапласа на прямоугольной сетке"
   ]
  },
  {
   "cell_type": "markdown",
   "id": "a0c61404-4aa2-4de1-9805-c767311697f6",
   "metadata": {},
   "source": []
  },
  {
   "cell_type": "markdown",
   "id": "bafe727f-5ba4-442a-b746-190b23214557",
   "metadata": {},
   "source": [
    "## Триангуляция Делоне на плоскости и в 3D пространстве. Определение значения искомой величины между узлами сетки."
   ]
  },
  {
   "cell_type": "markdown",
   "id": "e91b44fc-684d-478c-9248-ea1aeff4a288",
   "metadata": {},
   "source": []
  },
  {
   "cell_type": "markdown",
   "id": "554d14cb-9244-41c1-99f3-895485c8025b",
   "metadata": {},
   "source": [
    "## Преобразование Фурье. Виды сигналов. Влияние параметров сигнала на спектр сигнала."
   ]
  },
  {
   "cell_type": "markdown",
   "id": "0d6db1df-80a8-4b7e-99b0-4277fa69bbfd",
   "metadata": {},
   "source": [
    "Прямое преобразование Фурье.  \n",
    "$ F(i \\omega) = \\frac {1} {\\sqrt{2 \\pi}} \\int_{-\\infty}^{\\infty}s(t) e^{-i \\omega t} dt$  \n",
    "Обратное преобразование Фурье.  \n",
    "$ s(t) = \\frac {1} {\\sqrt{2 \\pi}} \\int_{-\\infty}^{\\infty} f(i \\omega) e^{i \\omega t} dt $\n",
    "\n",
    "![](./images/18-01.png)"
   ]
  },
  {
   "cell_type": "markdown",
   "id": "8518b6fa-4ac7-4429-be00-c927136f9439",
   "metadata": {},
   "source": [
    "## Преобразование Фурье для одиночных и периодических сигналов"
   ]
  },
  {
   "cell_type": "markdown",
   "id": "dd788ddd-b1ec-4847-8844-0ff3c06f2ccd",
   "metadata": {},
   "source": [
    "![](./images/18-02.png)"
   ]
  }
 ],
 "metadata": {
  "kernelspec": {
   "display_name": "Python 3 (ipykernel)",
   "language": "python",
   "name": "python3"
  },
  "language_info": {
   "codemirror_mode": {
    "name": "ipython",
    "version": 3
   },
   "file_extension": ".py",
   "mimetype": "text/x-python",
   "name": "python",
   "nbconvert_exporter": "python",
   "pygments_lexer": "ipython3",
   "version": "3.11.6"
  }
 },
 "nbformat": 4,
 "nbformat_minor": 5
}
