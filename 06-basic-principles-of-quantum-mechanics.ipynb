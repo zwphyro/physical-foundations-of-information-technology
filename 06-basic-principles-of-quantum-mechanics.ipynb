{
 "cells": [
  {
   "cell_type": "markdown",
   "id": "7fdaa403-d075-4868-9a4a-a948399986f0",
   "metadata": {},
   "source": [
    "# Основные принципы квантовой механики"
   ]
  },
  {
   "cell_type": "markdown",
   "id": "6b3683c9-c38b-46b9-93e4-eac7242e88e5",
   "metadata": {},
   "source": [
    "## Уравнение Шредингера для стационарного состояния. Волновая функция."
   ]
  },
  {
   "cell_type": "markdown",
   "id": "84c8e1c0-9cff-44b3-b1eb-ecf20adfaced",
   "metadata": {},
   "source": [
    "![](./images/06-01.png)\n",
    "\n",
    "$m$ - масса частицы, $\\hbar$ - постоянная Планка, $W$ - энергия частицы, $W_п$ - энергия потенциального поля, в котором находится частица.  \n",
    "$\\psi$ - волновая функция, являющаяся решением уравнения Шредингера.\n",
    "\n",
    "![](./images/06-02.png)\n",
    "\n"
   ]
  },
  {
   "cell_type": "markdown",
   "id": "665d57c8-82f4-4a9a-8b51-e552803e21a0",
   "metadata": {},
   "source": [
    "## Область применения аппарата квантовой механики."
   ]
  },
  {
   "cell_type": "markdown",
   "id": "17c225fa-4a40-4115-b2e6-61d7d73ce3b8",
   "metadata": {},
   "source": [
    "![](./images/06-04.png)\n",
    "\n",
    "Аппарат квантовой механики используется для реализации флеш-памяти.  \n",
    "Задача о потенциальной яме соответствует задаче о хранении информации, задача о туннелировании соответствует задаче о записи и стирании информации."
   ]
  },
  {
   "cell_type": "markdown",
   "id": "83f80186-1bee-4837-b0b1-a447e64a5f6b",
   "metadata": {},
   "source": [
    "## Решение одномерного уравнения Шредингера. Введение безразмерных величин."
   ]
  },
  {
   "cell_type": "markdown",
   "id": "328de02b-8bb4-470a-8816-57b9b5dd33c9",
   "metadata": {},
   "source": [
    "![](./images/06-03.png)"
   ]
  },
  {
   "cell_type": "markdown",
   "id": "9585ca71-23a3-42ea-b812-4aaff745eb0f",
   "metadata": {},
   "source": [
    "## Задача о туннелировании частицы."
   ]
  },
  {
   "cell_type": "markdown",
   "id": "0c41e788-4d1d-45ff-8aac-81b3bd2d091a",
   "metadata": {},
   "source": [
    "![](./images/06-05.png)\n",
    "\n",
    "Результат решения задачи - можно обнаружить электрон в области III.\n",
    "\n",
    "![](./images/06-07.png)"
   ]
  },
  {
   "cell_type": "markdown",
   "id": "f18aca2e-4f4d-4d88-a785-d95fcbd62e7a",
   "metadata": {},
   "source": [
    "## Задача о потенциальной яме."
   ]
  },
  {
   "cell_type": "markdown",
   "id": "725b54d3-f5da-4bc6-b9d7-e335ad2ea105",
   "metadata": {},
   "source": [
    "![](./images/06-06.png)\n",
    "\n",
    "Результат решения задачи - электрон может обладать только дискретным набором энергий.\n",
    "\n",
    "![](./images/06-08.png)"
   ]
  }
 ],
 "metadata": {
  "kernelspec": {
   "display_name": "Python 3 (ipykernel)",
   "language": "python",
   "name": "python3"
  },
  "language_info": {
   "codemirror_mode": {
    "name": "ipython",
    "version": 3
   },
   "file_extension": ".py",
   "mimetype": "text/x-python",
   "name": "python",
   "nbconvert_exporter": "python",
   "pygments_lexer": "ipython3",
   "version": "3.11.6"
  }
 },
 "nbformat": 4,
 "nbformat_minor": 5
}
