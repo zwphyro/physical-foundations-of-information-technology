{
 "cells": [
  {
   "cell_type": "markdown",
   "id": "22ae00e4-0f8f-45a1-82bc-48e8d0ebe546",
   "metadata": {},
   "source": [
    "# Волноводы"
   ]
  },
  {
   "cell_type": "markdown",
   "id": "b999780c-cb36-4962-af46-472e1336b0a9",
   "metadata": {},
   "source": [
    "## Предназначение волноводов"
   ]
  },
  {
   "cell_type": "markdown",
   "id": "42da7c41-7e5d-4f86-9cb5-531f92cad9bd",
   "metadata": {},
   "source": [
    "Предназначение волновода - передача электромагнитной волны в пространстве практически без затухания."
   ]
  },
  {
   "cell_type": "markdown",
   "id": "10484e73-31eb-44b0-a2b4-f6a705843b10",
   "metadata": {},
   "source": [
    "## Классификация волноводов по геометрии и заполнению"
   ]
  },
  {
   "cell_type": "markdown",
   "id": "423a218d-b316-4f3a-9289-4f6277e7eb51",
   "metadata": {},
   "source": [
    "Геометрически разделяют прямоугльные и циллиндрические волноводы.  \n",
    "\n",
    "Внутри волновода находится вакуумный канал, внутренние стенки волновода могут быть нагружены диэлектриком для изменения свойств волновода.\n"
   ]
  },
  {
   "cell_type": "markdown",
   "id": "55936c26-cc49-46db-b2d6-b870d5a9d79b",
   "metadata": {},
   "source": [
    "## Типы мод в волноводе"
   ]
  },
  {
   "cell_type": "markdown",
   "id": "836ff519-19a1-4f4b-a36e-80311142bc8a",
   "metadata": {},
   "source": [
    "### TEM (Transverse Electric Magnetic) Поперечно-электрические-магнитные волны\n",
    "![](./images/04-01.png)  \n",
    "$\n",
    "H_z \\equiv 0\n",
    "$  \n",
    "$\n",
    "E_z \\equiv 0\n",
    "$\n",
    "\n",
    "### TM (Transverse Magnetic) Поперечно-магнитные волны\n",
    "$\n",
    "H_z \\equiv 0\n",
    "$\n",
    "\n",
    "### TE (Transverse Electric) Поперечно-электрические волны\n",
    "$\n",
    "E_z \\equiv 0\n",
    "$\n",
    "\n",
    "### HEM (Hybrid Electric Magnetic) Гибридные волны\n",
    "$\n",
    "E_z \\neq 0\n",
    "$  \n",
    "$\n",
    "H_z \\neq 0\n",
    "$\n",
    "\n",
    "### LSM (Longitudial Section Magnetic) Продольно-магнитные\n",
    "$\n",
    "H_y \\equiv 0\n",
    "$\n",
    "\n",
    "### LSE (Longitudial Section Electric) Продольно-электрические\n",
    "$\n",
    "E_y \\equiv 0\n",
    "$\n"
   ]
  },
  {
   "cell_type": "markdown",
   "id": "4b29ae5c-9cf5-4346-abe0-8d152474447f",
   "metadata": {},
   "source": [
    "## Геометрический и физический смысл фазовой скорости"
   ]
  },
  {
   "cell_type": "markdown",
   "id": "4fec2c51-6f3b-42fd-82d3-de9b818d8676",
   "metadata": {},
   "source": [
    "Фазовая скорость - скорость перемещения в пространстве точки с одной и той же фазой.\n",
    "\n",
    "![](./images/04-02.png)  "
   ]
  },
  {
   "cell_type": "markdown",
   "id": "16a09ad6-905c-4c2a-b5f6-6262fd94149f",
   "metadata": {},
   "source": [
    "## Как получить дисперсионное соотношение в полом прямоугольном волноводе с однородным заполнением"
   ]
  },
  {
   "cell_type": "markdown",
   "id": "de1ac0ed-b12f-4fd2-9bf7-a3f50bdb32f0",
   "metadata": {},
   "source": [
    "Дисперсионное соотношение - зависимость фазовой скорости от частоты.  \n",
    "\n",
    "$\n",
    "v_z = \\frac {\\omega} {k_z}\n",
    "$\n",
    "\n",
    "В полом прямоугольном волноводе:\n",
    "\n",
    "$ \n",
    "\\begin{equation*}\n",
    "    \\begin{cases}\n",
    "        \\Delta E_z + k^2 E_z = 0 \\\\\n",
    "        \\Delta H_z + k^2 H_z = 0 \\\\\n",
    "    \\end{cases}\n",
    "\\end{equation*}\n",
    "$\n",
    "\n",
    "$ \n",
    "\\begin{equation*}\n",
    "    \\begin{cases}\n",
    "        E_z = 0 \\text { (} y = h \\text { или } x = w \\text {)} \\\\\n",
    "        \\frac {\\partial H_z} {\\partial x} = 0 { (} x = w \\text {)} \\\\\n",
    "        \\frac {\\partial H_z} {\\partial y} = 0 { (} y = h \\text {)} \\\\\n",
    "    \\end{cases}\n",
    "\\end{equation*}\n",
    "$\n",
    "\n",
    "$\n",
    "E_z = f_0(x)f_1(y)f_2(z)\n",
    "$  \n",
    "\n",
    "$\n",
    "f_0 = A_x cos(k_x x) + B_x sin(k_x x)\n",
    "$  \n",
    "$\n",
    "f_1 = A_y cos(k_y y) + B_y sin(k_y y)\n",
    "$  \n",
    "$\n",
    "f_2 = A_z cos(k_z z)\n",
    "$  \n",
    "Накладываем граничные условия:  \n",
    "$\n",
    "E_z = 0\n",
    "$ ($y = h$, $y = 0$, $x = w$, $x = 0$)\n",
    "\n",
    "$\n",
    "\\Rightarrow f_0(x) = B_x sin(k_x x) = 0\n",
    "$  \n",
    "$\n",
    "\\Rightarrow sin(k_x w) = 0\n",
    "$  \n",
    "$\n",
    "\\Rightarrow k_x = \\frac {m \\pi} {w}\n",
    "$\n",
    "\n",
    "$\n",
    "\\Rightarrow f_1(y) = B_y sin(k_y y) = 0\n",
    "$  \n",
    "$\n",
    "\\Rightarrow sin(k_y h) = 0\n",
    "$  \n",
    "$\n",
    "\\Rightarrow k_y = \\frac {n \\pi} {h}\n",
    "$\n",
    "\n",
    "$\n",
    "E_z = B_x sin(k_x x) B_y sin(k_y y) A_z cos(k_z z)\n",
    "$\n",
    "\n",
    "$\n",
    "k^2 = \\frac {\\omega^2 \\varepsilon \\mu} {c^2 }\n",
    "$\n",
    "\n",
    "$\n",
    "k_z = \\sqrt {k^2 - k_x^2 - k_y^2} = \\sqrt {\\frac {\\omega^2 \\varepsilon \\mu} {c^2} - (\\frac {m \\pi} {w})^2 - (\\frac {n \\pi} {h})^2}\n",
    "$\n",
    "\n",
    "$\n",
    "k_z = \\frac {\\omega} {v_z} = \\sqrt {\\frac {\\omega^2 \\varepsilon \\mu} {c^2} - (\\frac {m \\pi} {w})^2 - (\\frac {n \\pi} {h})^2} \n",
    "$\n",
    "\n",
    "$\n",
    "v_z = \\frac {\\omega} {\\sqrt {\\frac {\\omega^2 \\varepsilon \\mu} {c^2} - (\\frac {m \\pi} {w})^2 - (\\frac {n \\pi} {h})^2} }\n",
    "$"
   ]
  },
  {
   "cell_type": "markdown",
   "id": "c157ef7f-c35b-4642-a61c-1d99c5139794",
   "metadata": {},
   "source": [
    "## Как определить рабочий диапазон частот в волноводе"
   ]
  },
  {
   "cell_type": "markdown",
   "id": "11fdc849-746a-4e0e-8507-438a95a3fcb8",
   "metadata": {},
   "source": [
    "Рабочий диапазон частот определяется неравенством:  \n",
    "$\n",
    "\\omega > \\omega_{граничная}\n",
    "$  \n",
    "$\n",
    "\\frac {(\\omega_{граничная}^{m,n})^2 \\varepsilon \\mu} {c^2} = (\\frac {m \\pi} {w})^2 + (\\frac {n \\pi} {h})^2\n",
    "$"
   ]
  }
 ],
 "metadata": {
  "kernelspec": {
   "display_name": "Python 3 (ipykernel)",
   "language": "python",
   "name": "python3"
  },
  "language_info": {
   "codemirror_mode": {
    "name": "ipython",
    "version": 3
   },
   "file_extension": ".py",
   "mimetype": "text/x-python",
   "name": "python",
   "nbconvert_exporter": "python",
   "pygments_lexer": "ipython3",
   "version": "3.11.6"
  }
 },
 "nbformat": 4,
 "nbformat_minor": 5
}
