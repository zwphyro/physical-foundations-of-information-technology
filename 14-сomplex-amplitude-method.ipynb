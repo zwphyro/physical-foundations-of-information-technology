{
 "cells": [
  {
   "cell_type": "markdown",
   "id": "71ab3eab-09db-4c58-b2d1-a12479ed6121",
   "metadata": {},
   "source": [
    "# Метод комплексных амплитуд"
   ]
  },
  {
   "cell_type": "markdown",
   "id": "1938e4eb-9c64-4c2f-b1b3-97e5e7d29952",
   "metadata": {},
   "source": [
    "## Запись гармонического сигнала в комплексной форме"
   ]
  },
  {
   "cell_type": "markdown",
   "id": "18c3a950-56a0-433f-a1f7-aa5f43957f64",
   "metadata": {},
   "source": [
    "$ U(t) = U_m e^{i(\\omega t + \\varphi)} $  \n",
    "$ Re(U(t)) = U_m cos(\\omega t + \\varphi) $ - классическое представление о сигнале."
   ]
  },
  {
   "cell_type": "markdown",
   "id": "63d2c291-5bcb-4e8d-848b-5ebe0d7817c6",
   "metadata": {},
   "source": [
    "## Импедансы конденсатора и катушки индуктивности"
   ]
  },
  {
   "cell_type": "markdown",
   "id": "f36ded79-00bf-4210-bdf7-5b93dcfb637f",
   "metadata": {},
   "source": [
    "Импеданс резистора:  \n",
    "$ Z_R = \\frac {U(t)} {I(t)} = R $  \n",
    "Импеданс конденсатора:  \n",
    "$ Q = CU $  \n",
    "$ I = \\frac {dQ} {dt} $  \n",
    "$ I = C \\frac {dU} {dt} $  \n",
    "$ U = U_m e^{i(\\omega t _+ \\varphi)} $  \n",
    "$ I = C U_m i \\omega e^{i(\\omega t _+ \\varphi)} $  \n",
    "$ Z_C = \\frac {U(t)} {I(t)} = \\frac {1} {i \\omega C} $  \n",
    "Импеданс катушки индуктивности:  \n",
    "$ U = - \\frac {dФ} {dt} $  \n",
    "$ Ф = LI $  \n",
    "$ U = - L \\frac {dI} {dt} $  \n",
    "$ U = U_m e^{i(\\omega t _+ \\varphi)} = -L \\frac {dI} {dt} $  \n",
    "$ U_m e^{i(\\omega t _+ \\varphi)}dt = -LdI $  \n",
    "$ U_m e^{i(\\omega t _+ \\varphi)} = -j \\omega L I $  \n",
    "$ Z_L = \\frac {U(t)} {I(t)} = -i \\omega L $  "
   ]
  },
  {
   "cell_type": "markdown",
   "id": "9bd15605-a849-490c-b126-c9e7420d950c",
   "metadata": {},
   "source": [
    "## Передаточные характеристики ФНЧ и ФВЧ"
   ]
  },
  {
   "cell_type": "markdown",
   "id": "8e0c21a0-34e2-4048-8fe8-3327de64cccc",
   "metadata": {},
   "source": [
    "### Фильтр низких частот\n",
    "![](./images/14-01.png)\n",
    "\n",
    "$ U_{вх} = U_m e^{j(\\omega t + \\varphi)} $  \n",
    "$ I = \\frac {U_{вх}} {Z_R + Z_C} = \\frac {U_{вх}} {R + \\frac {1} {j \\omega C}} $  \n",
    "$ U_{вых} = U_C = I \\cdot Z_C = \\frac {\\frac {1} {j \\omega C}} {R + \\frac {1} {j \\omega C}} U_{вх} $  \n",
    "$ H = \\frac {U_{вых}} {U_{вх}} = \\frac {\\frac {1} {j \\omega C}} {R + \\frac {1} {j \\omega C}} $\n",
    "\n",
    "### Фильтр высоких частот\n",
    "![](./images/14-02.png)\n",
    "\n",
    "$ H = \\frac {U_{вых}} {U_{вх}} = \\frac {R} {R + \\frac {1} {j \\omega C}} $\n",
    "\n",
    "Фильтр низких частот пропускает низкие частоты, фильтр высоких частот - высокие."
   ]
  },
  {
   "cell_type": "markdown",
   "id": "0d1d634e-31c9-4888-94c1-0d2fb253dbf6",
   "metadata": {},
   "source": [
    "## Резонансный фильтр"
   ]
  },
  {
   "cell_type": "markdown",
   "id": "6d167a19-b5d2-4e36-9501-55cc18b6e8b3",
   "metadata": {},
   "source": [
    "![](./images/14-03.png)\n",
    "\n",
    "$ H = \\frac {R} {R + j\\omega L + \\frac {1} {j \\omega C}} $\n",
    "\n",
    "Резонансный фильтр пропускает определенные частоты."
   ]
  }
 ],
 "metadata": {
  "kernelspec": {
   "display_name": "Python 3 (ipykernel)",
   "language": "python",
   "name": "python3"
  },
  "language_info": {
   "codemirror_mode": {
    "name": "ipython",
    "version": 3
   },
   "file_extension": ".py",
   "mimetype": "text/x-python",
   "name": "python",
   "nbconvert_exporter": "python",
   "pygments_lexer": "ipython3",
   "version": "3.11.6"
  }
 },
 "nbformat": 4,
 "nbformat_minor": 5
}
