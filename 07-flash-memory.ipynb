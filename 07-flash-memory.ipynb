{
 "cells": [
  {
   "cell_type": "markdown",
   "id": "0561144d-9c3c-43f7-90ff-325f78421995",
   "metadata": {},
   "source": [
    "# Флеш память"
   ]
  },
  {
   "cell_type": "markdown",
   "id": "168fffe3-481a-45c9-a1c0-abc177f07cb0",
   "metadata": {},
   "source": [
    "## Полевые транзисторы"
   ]
  },
  {
   "cell_type": "markdown",
   "id": "96aae567-d79b-4e54-8278-5070b800defc",
   "metadata": {},
   "source": [
    "![](./images/07-01.png)"
   ]
  },
  {
   "cell_type": "markdown",
   "id": "5a53187c-6fd2-442c-a3c9-99cd97ed208c",
   "metadata": {},
   "source": [
    "## Конструкция и принцип работы ячейки памяти. Запись, чтеине и стирание информации. "
   ]
  },
  {
   "cell_type": "markdown",
   "id": "753c89ec-c2a3-4463-9536-930197d96878",
   "metadata": {},
   "source": [
    "![](./images/07-02.png)\n",
    "\n",
    "Сквозь диэлектирик возможно проникновение заряженных частиц в плавающий электрод с помощью эффекта туннелирования.\n",
    "\n",
    "![](./images/07-03.png)\n",
    "\n",
    "![](./images/07-04.png)\n",
    "\n",
    "![](./images/07-05.png)\n",
    "\n",
    "![](./images/07-06.png)\n",
    "\n",
    "Различия SSD и HDD носителей:\n",
    "1. Скорость чтения информации у SSD носителей выше\n",
    "2. SSD носители лучше выдерживают межанические деформации\n",
    "3. Стоимость бита информации в HDD носителе меньше\n",
    "4. У SSD носителей ограниченный цикл перезаписи ячеек"
   ]
  }
 ],
 "metadata": {
  "kernelspec": {
   "display_name": "Python 3 (ipykernel)",
   "language": "python",
   "name": "python3"
  },
  "language_info": {
   "codemirror_mode": {
    "name": "ipython",
    "version": 3
   },
   "file_extension": ".py",
   "mimetype": "text/x-python",
   "name": "python",
   "nbconvert_exporter": "python",
   "pygments_lexer": "ipython3",
   "version": "3.11.6"
  }
 },
 "nbformat": 4,
 "nbformat_minor": 5
}
