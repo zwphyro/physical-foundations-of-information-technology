{
 "cells": [
  {
   "cell_type": "markdown",
   "id": "14c6cfeb-cfb3-4ef2-80fe-91d715f96ffa",
   "metadata": {},
   "source": [
    "# Некоторые опросы из раздела \"поляризация света\""
   ]
  },
  {
   "cell_type": "markdown",
   "id": "e1328650-eefb-40b6-be0d-c4a29a61ba0a",
   "metadata": {},
   "source": [
    "## Виды поляризации света"
   ]
  },
  {
   "cell_type": "markdown",
   "id": "75ad94a2-a24a-481c-b7cb-110f0ba977d2",
   "metadata": {},
   "source": [
    "Свет бывает линейно и эллиптически поляризованным.\n",
    "\n",
    "![](./images/09-01.png)\n",
    "\n",
    "![](./images/09-02.png)\n"
   ]
  },
  {
   "cell_type": "markdown",
   "id": "d8b9c7e0-fa01-4ca8-98fc-0a3257d2c9fa",
   "metadata": {},
   "source": [
    "## Как представить линейно-поляризованный свет через эллиптические волны"
   ]
  },
  {
   "cell_type": "markdown",
   "id": "a5ddb79f-20fc-4a10-bf89-dbddc86eeced",
   "metadata": {},
   "source": [
    "![](./images/09-06.png)"
   ]
  },
  {
   "cell_type": "markdown",
   "id": "410571e5-4d05-4766-a1f4-36fc3ca2e6fa",
   "metadata": {},
   "source": [
    "## Как представить эллиптическую волну через линейно-поляризованные волны"
   ]
  },
  {
   "cell_type": "markdown",
   "id": "9237eda4-7911-4274-addf-aef8df297e76",
   "metadata": {},
   "source": [
    "![](./images/09-05.png)"
   ]
  },
  {
   "cell_type": "markdown",
   "id": "a5468ea7-f2bf-4d5e-b122-c1045654f395",
   "metadata": {},
   "source": [
    "## Четвертьволновая пластинка. Стерео-очки."
   ]
  },
  {
   "cell_type": "markdown",
   "id": "75992f05-df83-4361-a9b2-328c5410b624",
   "metadata": {},
   "source": [
    "![](./images/09-03.png)\n",
    "\n",
    "![](./images/09-04.png)\n",
    "\n"
   ]
  }
 ],
 "metadata": {
  "kernelspec": {
   "display_name": "Python 3 (ipykernel)",
   "language": "python",
   "name": "python3"
  },
  "language_info": {
   "codemirror_mode": {
    "name": "ipython",
    "version": 3
   },
   "file_extension": ".py",
   "mimetype": "text/x-python",
   "name": "python",
   "nbconvert_exporter": "python",
   "pygments_lexer": "ipython3",
   "version": "3.11.6"
  }
 },
 "nbformat": 4,
 "nbformat_minor": 5
}
