{
 "cells": [
  {
   "cell_type": "markdown",
   "id": "22a61245-4685-4029-8b34-4a3f5f10a3fa",
   "metadata": {},
   "source": [
    "# Смарт-карты"
   ]
  },
  {
   "cell_type": "markdown",
   "id": "f7308f62-6aa0-4229-ad23-7004b321eaab",
   "metadata": {},
   "source": [
    "## Устройство смарт-карты"
   ]
  },
  {
   "cell_type": "markdown",
   "id": "71ecb49f-e780-4fd1-90e3-657b53512522",
   "metadata": {},
   "source": [
    "![](./images/17-01.png)\n",
    "\n",
    "![](./images/17-02.png)\n",
    "\n",
    "![](./images/17-03.png)"
   ]
  },
  {
   "cell_type": "markdown",
   "id": "153b3613-9ef5-4ce9-9ed3-519fb64e246e",
   "metadata": {},
   "source": [
    "## Процесс взаимодействия валидатора и смарт-карты"
   ]
  },
  {
   "cell_type": "markdown",
   "id": "d8672360-0812-4711-ad0a-b74a96756e2f",
   "metadata": {},
   "source": [
    "Когда карта прикладывается к валидатору, происходит процесс инициализации.  \n",
    "Смарт-кртра накапливает заряд для временного источника питания.  \n",
    "После получения питания чип из ПЗУ отправляет данные на валидатор.  \n",
    "Смарт-карта отправляет данные в виде радиоимпульсов."
   ]
  },
  {
   "cell_type": "markdown",
   "id": "469950d7-5861-45f5-a8ab-16c78ff03538",
   "metadata": {},
   "source": [
    "## Закон Био-Савара-Лапласа"
   ]
  },
  {
   "cell_type": "markdown",
   "id": "233493b9-def9-4c59-b1c9-221ae57b03a3",
   "metadata": {},
   "source": [
    "![](./images/17-04.png)\n",
    "\n"
   ]
  },
  {
   "cell_type": "markdown",
   "id": "51c7d5b3-03e9-4a5e-8db9-af7862d55f48",
   "metadata": {},
   "source": [
    "## Закон Фарадея"
   ]
  },
  {
   "cell_type": "markdown",
   "id": "b3f7ee2e-a015-45f7-9f4b-129040cff4f3",
   "metadata": {},
   "source": [
    "![](./images/17-05.png)\n",
    "\n",
    "Возникновение тока в смарт-карте обуславливается тем, что карту пронизывает переменное магнитное поле.  "
   ]
  },
  {
   "cell_type": "markdown",
   "id": "52f504e4-a2ee-4544-8e55-844714ab0ac5",
   "metadata": {},
   "source": [
    "## Резонансный контур"
   ]
  },
  {
   "cell_type": "markdown",
   "id": "66dea61e-f5ed-445b-b63a-c538899a8ec0",
   "metadata": {},
   "source": [
    "![](./images/17-06.png)\n",
    "\n",
    "![](./images/17-07.png)\n",
    "\n",
    "Резонансный контур генерирует затухающую синусоиду, с помощью ключа можно определить, передается 0 или 1.\n",
    "\n",
    "![](./images/17-08.png)"
   ]
  }
 ],
 "metadata": {
  "kernelspec": {
   "display_name": "Python 3 (ipykernel)",
   "language": "python",
   "name": "python3"
  },
  "language_info": {
   "codemirror_mode": {
    "name": "ipython",
    "version": 3
   },
   "file_extension": ".py",
   "mimetype": "text/x-python",
   "name": "python",
   "nbconvert_exporter": "python",
   "pygments_lexer": "ipython3",
   "version": "3.11.6"
  }
 },
 "nbformat": 4,
 "nbformat_minor": 5
}
