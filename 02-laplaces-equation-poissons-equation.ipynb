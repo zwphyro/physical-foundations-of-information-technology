{
 "cells": [
  {
   "cell_type": "markdown",
   "id": "22eb816b-b6a1-4f6d-9550-0c593dff0731",
   "metadata": {},
   "source": [
    "# Уравнение Лапласа, уравнене Пуассона"
   ]
  },
  {
   "cell_type": "markdown",
   "id": "0bbecbaf-3180-49f1-88c5-5147757be6d8",
   "metadata": {},
   "source": [
    "## 1. Вывод уравнения Лапласа и уравнения Пуассона"
   ]
  },
  {
   "cell_type": "markdown",
   "id": "f4920117-1fc6-4a6f-89d3-88cd1347e0d0",
   "metadata": {},
   "source": [
    "$\n",
    "\\nabla \\cdot \\vec{D} = \\rho\n",
    "$ - Теорема Гаусса для электрического поля  \n",
    "$\n",
    "\\vec{E} = - grad \\varphi\n",
    "$ - связь напряженности и потенциала электростатического поля  \n",
    "$\n",
    "\\vec{D} = \\varepsilon \\varepsilon_0 \\vec{E}\n",
    "$  \n",
    "$\n",
    "\\vec{D} = \\varepsilon \\varepsilon_0 (- grad \\varphi)\n",
    "$  \n",
    "$\n",
    "\\varepsilon \\varepsilon_0 \\Delta \\varphi = \\rho\n",
    "$  \n",
    "$\n",
    "\\Delta \\varphi = \\frac {\\rho} {\\varepsilon \\varepsilon_0}\n",
    "$ - уравнение Пуассона  \n",
    "При\n",
    "$\n",
    "div \\vec{D} = 0\n",
    "$  \n",
    "$\n",
    "\\Delta \\varphi = 0\n",
    "$ - уравнение Лапласа  "
   ]
  },
  {
   "cell_type": "markdown",
   "id": "394e5245-df63-4e51-a9b9-45bd5badda8b",
   "metadata": {},
   "source": [
    "## 2. Граничные условия на границе вакуум-металл"
   ]
  },
  {
   "cell_type": "markdown",
   "id": "b0fab43d-b538-47d6-83ef-e1933890606c",
   "metadata": {},
   "source": [
    "$\n",
    "\\begin{equation*}\n",
    "    \\begin{cases}\n",
    "        E_z = 0 \\\\\n",
    "        \\frac {\\partial H_z} {\\partial r} = 0\n",
    "    \\end{cases}\n",
    "\\end{equation*}\n",
    "$\n",
    "\n",
    "На границе диэлектрика (вакуума) с металом отсутствует касательная составляющая электрического поля.\n",
    "\n",
    "$\n",
    "\\Rightarrow E_{\\theta} = 0, H_{\\theta} = 0 \n",
    "$"
   ]
  },
  {
   "cell_type": "markdown",
   "id": "8c7004c1-1320-4a8f-8f5d-6a8621867da7",
   "metadata": {},
   "source": [
    "## 3. Силовые линии и эквипотенциали"
   ]
  },
  {
   "cell_type": "markdown",
   "id": "3e48c61c-068e-431a-bff3-324372276f4b",
   "metadata": {},
   "source": [
    "![](./images/02-01.png)"
   ]
  }
 ],
 "metadata": {
  "kernelspec": {
   "display_name": "Python 3 (ipykernel)",
   "language": "python",
   "name": "python3"
  },
  "language_info": {
   "codemirror_mode": {
    "name": "ipython",
    "version": 3
   },
   "file_extension": ".py",
   "mimetype": "text/x-python",
   "name": "python",
   "nbconvert_exporter": "python",
   "pygments_lexer": "ipython3",
   "version": "3.11.6"
  }
 },
 "nbformat": 4,
 "nbformat_minor": 5
}
