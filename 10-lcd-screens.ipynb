{
 "cells": [
  {
   "cell_type": "markdown",
   "id": "933962e8-b685-483c-9f1e-ec0383d901f2",
   "metadata": {},
   "source": [
    "# Жидкокристаллические экраны"
   ]
  },
  {
   "cell_type": "markdown",
   "id": "0613e9e6-2f6f-4857-b292-f609eaf7b30e",
   "metadata": {},
   "source": [
    "## Устройство ЖК экрана"
   ]
  },
  {
   "cell_type": "markdown",
   "id": "d00d6815-6745-4dc7-a0e0-c534c85754a0",
   "metadata": {},
   "source": [
    "![](./images/10-01.png)\n",
    "\n",
    "1 - Электрод  \n",
    "2 - Поляризатор  \n",
    "3 - ЖК  \n",
    "4 - Световой фильтр  \n",
    "5 - Поляризатор  \n",
    "6 - Электрод  "
   ]
  },
  {
   "cell_type": "markdown",
   "id": "0257b268-f722-4196-9540-270ed6f3b249",
   "metadata": {},
   "source": [
    "## Поворот проскости поляризации света"
   ]
  },
  {
   "cell_type": "markdown",
   "id": "f83a79e9-204c-4f3b-afaa-2a178dabc9f2",
   "metadata": {},
   "source": [
    "![](./images/10-02.png)\n",
    "\n",
    "В отсутствии напряжения между электродами, молекулы в ЖК расположены хаотическим образом, поляризация света не меняется.  \n",
    "После подачи напряжения молекулы в ЖК упорядоченно выстраиваются, плоскость поляризации света поворачивается."
   ]
  },
  {
   "cell_type": "markdown",
   "id": "5ba32603-0879-4d46-95aa-0ac5ca502554",
   "metadata": {},
   "source": [
    "## Закон Малюса"
   ]
  },
  {
   "cell_type": "markdown",
   "id": "6e5928cb-c3ee-44a5-936d-9f7999c9a445",
   "metadata": {},
   "source": [
    "![](./images/10-03.png)"
   ]
  },
  {
   "cell_type": "markdown",
   "id": "888e7abe-abf4-4d5d-a214-5233a4d510a2",
   "metadata": {},
   "source": [
    "## Двойное лучепреломление. Устройство поляризатора на прохождении света."
   ]
  },
  {
   "cell_type": "markdown",
   "id": "293cb9b8-f7b0-4322-ae57-1fee8e0efc58",
   "metadata": {},
   "source": [
    "### Двойное лучепреломление\n",
    "\n",
    "![](./images/10-04.png)\n",
    "\n",
    "### Призма Николя\n",
    "\n",
    "![](./images/10-05.png)\n",
    "\n",
    "### Поляроид\n",
    "\n",
    "![](./images/10-06.png)"
   ]
  }
 ],
 "metadata": {
  "kernelspec": {
   "display_name": "Python 3 (ipykernel)",
   "language": "python",
   "name": "python3"
  },
  "language_info": {
   "codemirror_mode": {
    "name": "ipython",
    "version": 3
   },
   "file_extension": ".py",
   "mimetype": "text/x-python",
   "name": "python",
   "nbconvert_exporter": "python",
   "pygments_lexer": "ipython3",
   "version": "3.11.6"
  }
 },
 "nbformat": 4,
 "nbformat_minor": 5
}
