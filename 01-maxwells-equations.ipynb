{
 "cells": [
  {
   "cell_type": "markdown",
   "id": "22e1351f-e6de-4a48-bd66-2f0ed3bf8759",
   "metadata": {},
   "source": [
    "# Уравнения Максвелла"
   ]
  },
  {
   "cell_type": "markdown",
   "id": "1e6bd32c-76f5-4fee-af07-3fef16f85ad4",
   "metadata": {},
   "source": [
    "## 1. Система уравнений Максвелла"
   ]
  },
  {
   "cell_type": "markdown",
   "id": "2077b577-1555-478c-8bbe-bfeca0111ebf",
   "metadata": {},
   "source": [
    "### Система уравнений Максвелла в интегральной форме\n",
    "$ \n",
    "\\begin{equation*}\n",
    "    \\begin{cases}\n",
    "        \\oint_Г \\vec{E}' \\cdot d \\vec{l} = - \\frac {\\partial} {\\partial t} \\int_S \\vec{B} \\cdot d \\vec{s} \\text{, (1)} \\\\\n",
    "        \\oint_Г \\vec{H}' \\cdot d \\vec{l} = \\int_S (\\vec{j_{пр}} + \\vec{j_{мол}} + \\frac {\\partial \\vec{D}} {\\partial t}) \\cdot d \\vec{s} \\text{, (2)} \\\\\n",
    "        \\oint_S \\vec{D} \\cdot d \\vec{s} = \\int_V \\rho d V \\text{, (3)} \\\\\n",
    "        \\oint_S \\vec{B} \\cdot d \\vec{s} = 0 \\text{, (4)} \\\\\n",
    "        \\vec{B} = \\mu \\mu_0 \\vec{H} \\\\\n",
    "        \\vec{D} = \\varepsilon \\varepsilon_0 \\vec{E}\n",
    "    \\end{cases}\n",
    "\\end{equation*}\n",
    "$\n",
    "\n",
    "### Ситема уравнений Максвелла в дифференциальной форме\n",
    "$ \n",
    "\\begin{equation*}\n",
    "    \\begin{cases}\n",
    "        \\nabla \\times \\vec{E}' = rot \\vec{E}' = - \\frac {\\partial \\vec{B}} {\\partial t} \\text{, (1)} \\\\\n",
    "        \\nabla \\times \\vec{H} = rot \\vec{H} = \\vec{j_{пр}} + \\vec{j_{мол}} + \\frac {\\partial \\vec{D}} {\\partial t} \\text{, (2)} \\\\\n",
    "        \\nabla \\vec{D} = div \\vec{D} = \\rho \\text{, (3)} \\\\\n",
    "        \\nabla \\vec{B} = div \\vec{B} = 0 \\text{, (4)} \\\\\n",
    "        \\vec{B} = \\mu \\mu_0 \\vec{H} \\\\\n",
    "        \\vec{D} = \\varepsilon \\varepsilon_0 \\vec{E}\n",
    "    \\end{cases}\n",
    "\\end{equation*}\n",
    "$\n",
    "\n",
    "$\\vec{E}'$ - напряжение электрического поля  \n",
    "$\\vec{H}$ - напряжение магнитного поля  \n",
    "$\\vec{D}$ - индукуция электрического поля  \n",
    "$\\vec{B}$ - индукция магнитного поля  \n",
    "\n",
    "(1) - Закон Фарадея  \n",
    "    В левой части уравенния циркуляция по замкнутому контуру, в правой - изменение магнитного потока  \n",
    "(2) - Закон полного тока (закон о циркуляции мгнитного поля)  \n",
    "    В левой части представлены источники электромагнитных фолн $j$, $\\frac {\\partial \\vec{D}} {\\partial t}$ - переменное электрическое поле, пораждающее магнитное поле  \n",
    "(3) - Теорема Гаусса для электрического поля  \n",
    "    Поток электрического поля через замкнутую поверхность равен сумме зарядов, сосредоточенных в данной поверхности  \n",
    "(4) - Теорема Гаусса для магнитного поля\n",
    "\n"
   ]
  },
  {
   "cell_type": "markdown",
   "id": "a85b82bd-222f-4806-8368-f38286a4f89e",
   "metadata": {},
   "source": [
    "## 2. Физический смысл уравнений Максвелла"
   ]
  },
  {
   "cell_type": "markdown",
   "id": "71d3ec31-8475-4f7b-91fc-5481f1fe7f39",
   "metadata": {},
   "source": [
    "### Закон Фарадея\n",
    "Изменяющееся во времени магнитное поле пораждает вихревое электрическое поле.\n",
    "\n",
    "### Закон полного тока\n",
    "Вихревое магнитное поле пораждается изменяющимся во времени электрическим полем.\n",
    "\n",
    "### Теорема Гаусса для электирческого поля\n",
    "Поток электрического поля через замкнутую поверность равен сумме зарядов, сосредоточенных в данной поверности.\n",
    "\n",
    "### Теорема Гаусса для магнитного поля\n",
    "Число линий магнитного поля, входящих в произвольную замкнутую поверхность, равно числу линий, выходящих из нее.\n",
    "\n",
    "\n"
   ]
  },
  {
   "cell_type": "markdown",
   "id": "d192bc85-6cc2-4ad4-b772-e2e43eab9e6f",
   "metadata": {},
   "source": [
    "## 3. Дифференциальные операторы"
   ]
  },
  {
   "cell_type": "markdown",
   "id": "8d53b462-39be-4b01-8a49-3d1a26e22f6f",
   "metadata": {},
   "source": [
    "$\n",
    "\\nabla = \\vec{i} \\frac {\\partial} {\\partial x} + \\vec{j} \\frac {\\partial} {\\partial y} + \\vec{k} \\frac {\\partial} {\\partial z}\n",
    "$\n",
    "\n",
    "### Дивергенция\n",
    "$\n",
    "\\nabla \\cdot \\vec{D} = div \\vec{D} = \\vec{i} \\frac {\\partial D_x} {\\partial x} + \\vec{j} \\frac {\\partial  D_y} {\\partial y} + \\vec{k} \\frac {\\partial  D_z} {\\partial z}\n",
    "$\n",
    "\n",
    "Дивергенция получается как скалярное произведение оператора набла на вектор. Дивергенция в качестве аргумунта принимает вертор и возвращает скаляр.  \n",
    "Если представить вихревое поле как поток вещества, то дивергенция говорит, сколько вещества входит/исходит из точки.\n",
    "\n",
    "### Градиент\n",
    "$\n",
    "\\nabla \\varphi = grad \\varphi = \\vec{i} \\frac {\\partial \\varphi} {\\partial x} + \\vec{j} \\frac {\\partial \\varphi} {\\partial y} + \\vec{k} \\frac {\\partial \\varphi} {\\partial z}\n",
    "$\n",
    "\n",
    "Градиент получается как произведение оператора набла на скаляр, в результате получается вектор.  \n",
    "Градиент позволяет определить направление и скорость изменения вектора.\n",
    "\n",
    "$\n",
    "\\vec{E} = -grad \\varphi\n",
    "$\n",
    "\n",
    "### Ротор\n",
    "$\n",
    "\\nabla \\times \\vec{E} = rot \\vec{E}\n",
    "$\n",
    "\n",
    "Ротор получается как векторное произведение оператора набла на вектор, результатом применения оператора является вектор.  \n",
    "Ротор показыает наличие визревого поля.\n",
    "\n",
    "$\n",
    "rot \\vec{E} \\neq 0 \\Rightarrow \\vec{E}\n",
    "$ - вихревое поле\n",
    "\n",
    "$\n",
    "rot \\vec{E} = 0 \\Rightarrow \\vec{E}\n",
    "$ - потенциальное поле\n",
    "\n",
    "$\n",
    "\\nabla \\cdot (\\nabla \\varphi) = div(grad(\\varphi)) = \\Delta \\varphi\n",
    "$  \n",
    "$\\Delta$ - опреатор Лапласа  \n",
    "$\n",
    "\\Delta \\varphi = \\vec{i} \\frac {\\partial^2 \\varphi} {\\partial x^2} + \\vec{j} \\frac {\\partial^2 \\varphi} {\\partial y^2} + \\vec{k} \\frac {\\partial^2 \\varphi} {\\partial z^2}\n",
    "$\n"
   ]
  }
 ],
 "metadata": {
  "kernelspec": {
   "display_name": "Python 3 (ipykernel)",
   "language": "python",
   "name": "python3"
  },
  "language_info": {
   "codemirror_mode": {
    "name": "ipython",
    "version": 3
   },
   "file_extension": ".py",
   "mimetype": "text/x-python",
   "name": "python",
   "nbconvert_exporter": "python",
   "pygments_lexer": "ipython3",
   "version": "3.11.6"
  }
 },
 "nbformat": 4,
 "nbformat_minor": 5
}
