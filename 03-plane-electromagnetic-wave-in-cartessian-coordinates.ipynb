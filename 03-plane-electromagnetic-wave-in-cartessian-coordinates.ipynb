{
 "cells": [
  {
   "cell_type": "markdown",
   "id": "ba922fc3-9cb7-4664-bd33-ac7ab1a88bf1",
   "metadata": {},
   "source": [
    "# Плоская электромагнитная волна в декартовых координатах"
   ]
  },
  {
   "cell_type": "markdown",
   "id": "629e1aa3-6d17-47ad-80bb-222740935f89",
   "metadata": {},
   "source": [
    "## 1. Определение плоской волны"
   ]
  },
  {
   "cell_type": "markdown",
   "id": "aa2827c4-97ef-48e4-adee-cac016d8c134",
   "metadata": {},
   "source": [
    "Плоская волна: $ \\frac {\\partial} {\\partial x} = 0; \\frac {\\partial} {\\partial y} = 0 $\n",
    "\n",
    "Общий вид уравнений плоской волны:  \n",
    "$\n",
    "E_x = E_{01}cos(\\omega t - k_zz + \\alpha) + E_{02}cos(\\omega t + k_zz + \\alpha)\n",
    "$  \n",
    "$\n",
    "H_y = H_{01}cos(\\omega t - k_zz + \\alpha) + H_{02}cos(\\omega t + k_zz + \\alpha)\n",
    "$\n",
    "\n",
    "$\n",
    "k_z = \\frac {2 \\pi} {\\lambda}\n",
    "$ - волновое число  \n",
    "$\n",
    "\\omega = \\frac {2 \\pi} {T}\n",
    "$"
   ]
  },
  {
   "cell_type": "markdown",
   "id": "07a57172-2724-45bd-89e6-fba6a5d62a99",
   "metadata": {},
   "source": [
    "## 2. Оператор Д'Аламбера"
   ]
  },
  {
   "cell_type": "markdown",
   "id": "4602f927-634c-499d-b494-4c373e965251",
   "metadata": {},
   "source": [
    "$\n",
    "\\square = \\nabla^2 - \\frac {1} {\\nu^2} \\frac {\\partial^2} {\\partial t^2}\n",
    "$ - оператор Д'Аламбера\n",
    "\n",
    "$\\nu = \\frac {c} {\\sqrt{\\mu \\varepsilon}}$ - скорость света в данной среде"
   ]
  },
  {
   "cell_type": "markdown",
   "id": "44509cd6-e640-430c-b9da-3703aa63b3c1",
   "metadata": {},
   "source": [
    "## 3. Фазовая скорость, частота, длина волны, волновое число"
   ]
  },
  {
   "cell_type": "markdown",
   "id": "1cbb303e-9a55-4765-a93e-6d1b89880d45",
   "metadata": {},
   "source": [
    "$\n",
    "\\omega = \\frac {2 \\pi} {T}\n",
    "$ - Частота  \n",
    "$\n",
    "T\n",
    "$ - Период  \n",
    "$\n",
    "k_z = \\frac {2 \\pi} {\\lambda}\n",
    "$ - Волновое число  \n",
    "$\n",
    "\\lambda\n",
    "$ - Длина волны  \n",
    "$\n",
    "v = \\frac{\\omega} {k_z}\n",
    "$ - фазовая скорость\n",
    "\n",
    "![](./images/03-01.png)"
   ]
  },
  {
   "cell_type": "markdown",
   "id": "23d9bea6-4f7e-4d5b-8a5f-eee73c5fd700",
   "metadata": {},
   "source": [
    "## 4. Способы передачи информации с помощью электромагнитных волн"
   ]
  },
  {
   "cell_type": "markdown",
   "id": "1cb0b8c0-0d80-4e1e-8f47-3578781e1d6f",
   "metadata": {},
   "source": [
    "### Амплитудная модуляция\n",
    "$\n",
    "E = E_0(t)cos(\\omega t - k_zz)\n",
    "$\n",
    "\n",
    "![](./images/03-02.png)\n",
    "\n",
    "### Частотная модуляция\n",
    "$\n",
    "E = E_0cos(\\omega(t) t -k_zz)\n",
    "$\n",
    "\n",
    "![](./images/03-03.png)\n",
    "\n",
    "### Цифровая передача\n",
    "$\n",
    "E_x = (\\eta(t) - \\eta(t-\\tau))cos(\\omega t - k_zz)\n",
    "$ - Радиоимпульс\n",
    "\n",
    "![](./images/03-04.png)"
   ]
  }
 ],
 "metadata": {
  "kernelspec": {
   "display_name": "Python 3 (ipykernel)",
   "language": "python",
   "name": "python3"
  },
  "language_info": {
   "codemirror_mode": {
    "name": "ipython",
    "version": 3
   },
   "file_extension": ".py",
   "mimetype": "text/x-python",
   "name": "python",
   "nbconvert_exporter": "python",
   "pygments_lexer": "ipython3",
   "version": "3.11.6"
  }
 },
 "nbformat": 4,
 "nbformat_minor": 5
}
